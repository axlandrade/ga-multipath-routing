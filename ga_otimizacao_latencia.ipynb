{
  "cells": [
    {
      "cell_type": "markdown",
      "id": "429c10b6",
      "metadata": {
        "id": "429c10b6"
      },
      "source": [
        "# Otimização em Redes Ad Hoc usando Algoritmo Genético (com Latência)\n",
        "Este notebook aplica um Algoritmo Genético (GA) para encontrar uma rota de baixa latência em uma rede ad hoc representada por um grafo direcionado. O objetivo é minimizar a latência total da comunicação entre um nó de origem e um nó de destino, respeitando as capacidades máximas dos enlaces. Essa abordagem considera operadores genéticos (crossover, mutação) e penaliza soluções que ultrapassem os limites de capacidade."
      ]
    },
    {
      "cell_type": "code",
      "execution_count": null,
      "id": "531e3878",
      "metadata": {
        "id": "531e3878"
      },
      "outputs": [],
      "source": [
        "import networkx as nx\n",
        "import matplotlib.pyplot as plt\n",
        "import json\n",
        "import random\n",
        "import numpy as np"
      ]
    },
    {
      "cell_type": "code",
      "execution_count": null,
      "id": "Mnp6I3wc3wKS",
      "metadata": {
        "colab": {
          "base_uri": "https://localhost:8080/"
        },
        "id": "Mnp6I3wc3wKS",
        "outputId": "8dd5d0ea-656d-4581-c73c-6f8724bcc796"
      },
      "outputs": [],
      "source": [
        "import networkx as nx\n",
        "import json\n",
        "\n",
        "# Definição dos nós\n",
        "nodes = {\n",
        "    0: {\"label\": \"FOB Alpha\"},\n",
        "    1: {\"label\": \"FOB Bravo\"},\n",
        "    2: {\"label\": \"Drone 1\"},\n",
        "    3: {\"label\": \"Drone 2\"},\n",
        "    4: {\"label\": \"Unidade Móvel A\"},\n",
        "    5: {\"label\": \"Unidade Móvel B\"},\n",
        "    6: {\"label\": \"Unidade Móvel C\"},\n",
        "    7: {\"label\": \"Posto de Comunicação 1\"},\n",
        "    8: {\"label\": \"Posto de Comunicação 2\"},\n",
        "    9: {\"label\": \"Centro de Comando Regional\"}\n",
        "}\n",
        "\n",
        "# Arestas com custo simulando latência base + capacidade\n",
        "edges = [\n",
        "    (0, 4, {\"cost\": 3, \"capacity\": 10}),\n",
        "    (1, 5, {\"cost\": 4, \"capacity\": 10}),\n",
        "    (4, 2, {\"cost\": 2, \"capacity\": 8}),\n",
        "    (5, 2, {\"cost\": 3, \"capacity\": 8}),\n",
        "    (2, 7, {\"cost\": 5, \"capacity\": 12}),\n",
        "    (3, 8, {\"cost\": 4, \"capacity\": 12}),\n",
        "    (4, 3, {\"cost\": 6, \"capacity\": 6}),\n",
        "    (5, 3, {\"cost\": 5, \"capacity\": 6}),\n",
        "    (7, 9, {\"cost\": 2, \"capacity\": 15}),\n",
        "    (8, 9, {\"cost\": 2, \"capacity\": 15}),\n",
        "    (6, 2, {\"cost\": 4, \"capacity\": 7}),\n",
        "    (6, 3, {\"cost\": 4, \"capacity\": 7}),\n",
        "    (0, 6, {\"cost\": 6, \"capacity\": 5}),\n",
        "    (1, 6, {\"cost\": 5, \"capacity\": 5}),\n",
        "    (6, 7, {\"cost\": 3, \"capacity\": 8}),\n",
        "    (6, 8, {\"cost\": 3, \"capacity\": 8}),\n",
        "]\n",
        "\n",
        "# Layout fixo\n",
        "pos = {\n",
        "    0: (0, 0),\n",
        "    1: (0, -2),\n",
        "    4: (2, 0.5),\n",
        "    5: (2, -1.5),\n",
        "    6: (2, -0.5),\n",
        "    2: (4, 1),\n",
        "    3: (4, -1),\n",
        "    7: (6, 1),\n",
        "    8: (6, -1),\n",
        "    9: (8, 0)\n",
        "}\n",
        "\n",
        "# Criar grafo e adicionar elementos\n",
        "G = nx.DiGraph()\n",
        "for n, attr in nodes.items():\n",
        "    G.add_node(n, **attr)\n",
        "G.add_edges_from(edges)\n",
        "\n",
        "# Exportar estrutura como JSON\n",
        "graph_data = {\n",
        "    \"nodes\": nodes,\n",
        "    \"edges\": [(u, v, d) for u, v, d in G.edges(data=True)],\n",
        "    \"pos\": pos\n",
        "}\n",
        "\n",
        "# Salvar no ambiente do Colab\n",
        "with open(\"rede_afeganistao.json\", \"w\", encoding=\"utf-8\") as f:\n",
        "    json.dump(graph_data, f)\n",
        "\n",
        "print(\"Arquivo 'rede_afeganistao.json' gerado com sucesso.\")\n"
      ]
    },
    {
      "cell_type": "markdown",
      "id": "8f912a94",
      "metadata": {
        "id": "8f912a94"
      },
      "source": [
        "## Carregando a Rede com Latências"
      ]
    },
    {
      "cell_type": "code",
      "execution_count": null,
      "id": "33abe6f9",
      "metadata": {
        "id": "33abe6f9"
      },
      "outputs": [],
      "source": [
        "# Carregar estrutura da rede\n",
        "with open('rede_afeganistao.json', 'r') as f:\n",
        "    data = json.load(f)\n",
        "\n",
        "G = nx.DiGraph()\n",
        "for n, attr in data['nodes'].items():\n",
        "    G.add_node(int(n), **attr)\n",
        "for u, v, d in data['edges']:\n",
        "    # Substituir custo por latência fictícia (simulada aleatoriamente)\n",
        "    d['latency'] = d['cost'] + random.randint(0, 3)\n",
        "    G.add_edge(u, v, **d)\n",
        "pos = {int(k): tuple(v) for k, v in data['pos'].items()}"
      ]
    },
    {
      "cell_type": "markdown",
      "id": "302273c3",
      "metadata": {
        "id": "302273c3"
      },
      "source": [
        "## Visualização da Rede"
      ]
    },
    {
      "cell_type": "code",
      "execution_count": null,
      "id": "05d56dae",
      "metadata": {
        "colab": {
          "base_uri": "https://localhost:8080/",
          "height": 412
        },
        "id": "05d56dae",
        "outputId": "d55076a1-babf-411d-a348-c69bac0473a4"
      },
      "outputs": [],
      "source": [
        "plt.figure(figsize=(12, 6))\n",
        "nx.draw(G, pos, with_labels=True, labels=nx.get_node_attributes(G, 'label'),\n",
        "        node_color='lightgreen', node_size=1000, font_size=8, font_weight='bold')\n",
        "edge_labels = {(u, v): f\"lat:{d['latency']}, cap:{d['capacity']}\" for u, v, d in G.edges(data=True)}\n",
        "nx.draw_networkx_edge_labels(G, pos, edge_labels=edge_labels, font_size=8)\n",
        "plt.title(\"Rede Ad Hoc com Latência e Capacidade\")\n",
        "plt.axis('off')\n",
        "plt.show()"
      ]
    },
    {
      "cell_type": "markdown",
      "id": "40914569",
      "metadata": {
        "id": "40914569"
      },
      "source": [
        "## Definição do Problema"
      ]
    },
    {
      "cell_type": "code",
      "execution_count": null,
      "id": "58c3df99",
      "metadata": {
        "id": "58c3df99"
      },
      "outputs": [],
      "source": [
        "source, sink = 0, 9\n",
        "demand = 10"
      ]
    },
    {
      "cell_type": "markdown",
      "id": "29c899da",
      "metadata": {
        "id": "29c899da"
      },
      "source": [
        "## Funções Auxiliares para Avaliação e Mutação"
      ]
    },
    {
      "cell_type": "code",
      "execution_count": null,
      "id": "1a915204",
      "metadata": {
        "id": "1a915204"
      },
      "outputs": [],
      "source": [
        "def generate_path(graph, source, sink):\n",
        "    try:\n",
        "        return nx.shortest_path(graph, source, sink)\n",
        "    except:\n",
        "        return []\n",
        "\n",
        "def path_latency(graph, path):\n",
        "    return sum(graph[path[i]][path[i+1]]['latency'] for i in range(len(path)-1))\n",
        "\n",
        "def violates_capacity(graph, path, demand):\n",
        "    for i in range(len(path)-1):\n",
        "        u, v = path[i], path[i+1]\n",
        "        if graph[u][v]['capacity'] < demand:\n",
        "            return True\n",
        "    return False\n",
        "\n",
        "def mutate_path(graph, path):\n",
        "    if len(path) > 3:\n",
        "        new_target = path[random.randint(1, len(path)-2)]\n",
        "        try:\n",
        "            subpath1 = nx.shortest_path(graph, source, new_target)\n",
        "            subpath2 = nx.shortest_path(graph, new_target, sink)\n",
        "            return subpath1[:-1] + subpath2\n",
        "        except:\n",
        "            return path\n",
        "    return path"
      ]
    },
    {
      "cell_type": "markdown",
      "id": "f2c536ba",
      "metadata": {
        "id": "f2c536ba"
      },
      "source": [
        "## Execução do Algoritmo Genético com Penalização"
      ]
    },
    {
      "cell_type": "code",
      "execution_count": null,
      "id": "d88ee19f",
      "metadata": {
        "colab": {
          "base_uri": "https://localhost:8080/"
        },
        "id": "d88ee19f",
        "outputId": "e34ea573-1de0-4405-b118-acd70a01ff93"
      },
      "outputs": [],
      "source": [
        "POP_SIZE = 30\n",
        "N_GENERATIONS = 50\n",
        "MUTATION_RATE = 0.3\n",
        "population = [generate_path(G, source, sink) for _ in range(POP_SIZE)]\n",
        "population = [p for p in population if len(p) > 1]\n",
        "\n",
        "def fitness(graph, path):\n",
        "    if not path or violates_capacity(graph, path, demand):\n",
        "        return float('inf')\n",
        "    return path_latency(graph, path)\n",
        "\n",
        "def evaluate(pop):\n",
        "    return sorted(pop, key=lambda p: fitness(G, p))\n",
        "\n",
        "for generation in range(N_GENERATIONS):\n",
        "    population = evaluate(population)[:POP_SIZE]\n",
        "    next_gen = population[:5]\n",
        "    while len(next_gen) < POP_SIZE:\n",
        "        p1, p2 = random.sample(population, 2)\n",
        "        common = list(set(p1) & set(p2) - {source, sink})\n",
        "        if common:\n",
        "            split = random.choice(common)\n",
        "            i1 = p1.index(split)\n",
        "            i2 = p2.index(split)\n",
        "            child = p1[:i1] + p2[i2:]\n",
        "        else:\n",
        "            child = generate_path(G, source, sink)\n",
        "        if random.random() < MUTATION_RATE:\n",
        "            child = mutate_path(G, child)\n",
        "        if child and len(child) > 1:\n",
        "            next_gen.append(child)\n",
        "    population = next_gen\n",
        "\n",
        "best_path = evaluate(population)[0]\n",
        "print(\"Melhor caminho:\", best_path)\n",
        "print(\"Latência total:\", path_latency(G, best_path))"
      ]
    },
    {
      "cell_type": "markdown",
      "id": "326b6ac2",
      "metadata": {
        "id": "326b6ac2"
      },
      "source": [
        "## Visualização do Melhor Caminho com Menor Latência"
      ]
    },
    {
      "cell_type": "code",
      "execution_count": null,
      "id": "1f2bf6b9",
      "metadata": {
        "colab": {
          "base_uri": "https://localhost:8080/",
          "height": 412
        },
        "id": "1f2bf6b9",
        "outputId": "d155221d-e0f1-4a19-96e6-9cae2d7ac4a5"
      },
      "outputs": [],
      "source": [
        "plt.figure(figsize=(12, 6))\n",
        "nx.draw(G, pos, with_labels=True, labels=nx.get_node_attributes(G, 'label'),\n",
        "        node_color='lightgreen', node_size=1000, font_size=8, font_weight='bold')\n",
        "path_edges = [(best_path[i], best_path[i+1]) for i in range(len(best_path)-1)]\n",
        "nx.draw_networkx_edges(G, pos, edgelist=path_edges, width=3, edge_color='red')\n",
        "plt.title(\"Melhor Caminho Encontrado com Algoritmo Genético (Latência)\")\n",
        "plt.axis('off')\n",
        "plt.show()"
      ]
    }
  ],
  "metadata": {
    "colab": {
      "provenance": []
    },
    "kernelspec": {
      "display_name": "Python 3",
      "name": "python3"
    },
    "language_info": {
      "codemirror_mode": {
        "name": "ipython",
        "version": 3
      },
      "file_extension": ".py",
      "mimetype": "text/x-python",
      "name": "python",
      "nbconvert_exporter": "python",
      "pygments_lexer": "ipython3",
      "version": "3.12.11"
    }
  },
  "nbformat": 4,
  "nbformat_minor": 5
}
